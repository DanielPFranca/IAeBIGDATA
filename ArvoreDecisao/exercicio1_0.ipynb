{
 "cells": [
  {
   "cell_type": "code",
   "execution_count": 9,
   "metadata": {},
   "outputs": [],
   "source": [
    "import numpy as np\n",
    "from sklearn.model_selection import train_test_split\n",
    "from sklearn.tree import DecisionTreeClassifier\n",
    "from sklearn import tree\n",
    "import matplotlib.pyplot as plt \n",
    "import pandas as pd\n",
    "import seaborn as sns "
   ]
  },
  {
   "cell_type": "code",
   "execution_count": 19,
   "metadata": {},
   "outputs": [],
   "source": [
    "dados = np.array({\n",
    "    \"Velocidade\": [10, 5, 8, 6, 12, 4],\n",
    "    \"ComplexidadeTarefa\": ['baixa', 'alta', 'media', 'alta', 'baixa', 'alta'],\n",
    "    \"ManutencaoNecessaria\": ['baixa', 'alta', 'media', 'alta', 'baixa', 'media'],\n",
    "    \"Classificação\": ['montagem', 'teste', 'montagem', 'teste', 'montagem', 'teste']\n",
    "})\n",
    "\n",
    "#dados.head()\n",
    "\n",
    "#classe = dados['Classificação'].to_list()\n",
    "#complexo = dados['ComplexidadeTarefa'].to"
   ]
  },
  {
   "cell_type": "code",
   "execution_count": 20,
   "metadata": {},
   "outputs": [
    {
     "ename": "IndexError",
     "evalue": "only integers, slices (`:`), ellipsis (`...`), numpy.newaxis (`None`) and integer or boolean arrays are valid indices",
     "output_type": "error",
     "traceback": [
      "\u001b[1;31m---------------------------------------------------------------------------\u001b[0m",
      "\u001b[1;31mIndexError\u001b[0m                                Traceback (most recent call last)",
      "Cell \u001b[1;32mIn[20], line 1\u001b[0m\n\u001b[1;32m----> 1\u001b[0m complex_treino, complex_teste, class_treino, class_teste \u001b[39m=\u001b[39m train_test_split(dados[\u001b[39m'\u001b[39;49m\u001b[39mComplexidadeTarefa\u001b[39;49m\u001b[39m'\u001b[39;49m]\u001b[39m.\u001b[39mreshape(\u001b[39m-\u001b[39m\u001b[39m1\u001b[39m, \u001b[39m1\u001b[39m), dados[\u001b[39m'\u001b[39m\u001b[39mClassificação\u001b[39m\u001b[39m'\u001b[39m]\u001b[39m.\u001b[39mreshape(\u001b[39m-\u001b[39m\u001b[39m1\u001b[39m, \u001b[39m1\u001b[39m), test_size \u001b[39m=\u001b[39m \u001b[39m0.2\u001b[39m, random_state\u001b[39m=\u001b[39m \u001b[39m42\u001b[39m)\n",
      "\u001b[1;31mIndexError\u001b[0m: only integers, slices (`:`), ellipsis (`...`), numpy.newaxis (`None`) and integer or boolean arrays are valid indices"
     ]
    }
   ],
   "source": [
    "complex_treino, complex_teste, class_treino, class_teste = train_test_split(dados['ComplexidadeTarefa'].reshape(-1, 1), dados['Classificação'].reshape(-1, 1), test_size = 0.2, random_state= 42)\n"
   ]
  },
  {
   "cell_type": "code",
   "execution_count": null,
   "metadata": {},
   "outputs": [],
   "source": [
    "\n",
    "modelo = DecisionTreeClassifier()\n",
    "modelo.fit(dados['ComplexidadeTarefa'], dados['Classificação'])"
   ]
  }
 ],
 "metadata": {
  "kernelspec": {
   "display_name": "Python 3",
   "language": "python",
   "name": "python3"
  },
  "language_info": {
   "codemirror_mode": {
    "name": "ipython",
    "version": 3
   },
   "file_extension": ".py",
   "mimetype": "text/x-python",
   "name": "python",
   "nbconvert_exporter": "python",
   "pygments_lexer": "ipython3",
   "version": "3.11.4"
  },
  "orig_nbformat": 4
 },
 "nbformat": 4,
 "nbformat_minor": 2
}
