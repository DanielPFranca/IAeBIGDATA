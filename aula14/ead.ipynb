{
 "cells": [
  {
   "cell_type": "code",
   "execution_count": null,
   "metadata": {},
   "outputs": [],
   "source": [
    "alfa = 0.05\n",
    "\n",
    "from scipy import stats\n",
    "\n",
    "#teste de hipótese\n",
    "t_statistic, p_valor = stats.ttest_1samp(peso, 63)\n",
    "\n",
    "print(\"Estátistica t:\", t_statistic)\n",
    "print(\"Valor p:\", p_valor)\n",
    "\n",
    "if p_valor < alfa:\n",
    "\n",
    "    "
   ]
  }
 ],
 "metadata": {
  "kernelspec": {
   "display_name": "Python 3",
   "language": "python",
   "name": "python3"
  },
  "language_info": {
   "name": "python",
   "version": "3.11.4"
  }
 },
 "nbformat": 4,
 "nbformat_minor": 2
}
