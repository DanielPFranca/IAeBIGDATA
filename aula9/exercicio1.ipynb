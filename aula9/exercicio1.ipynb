{
 "cells": [
  {
   "cell_type": "code",
   "execution_count": 1,
   "metadata": {},
   "outputs": [],
   "source": [
    "import pandas as pd\n",
    "from sklearn.model_selection import train_test_split\n",
    "from sklearn.svm import SVC\n",
    "from sklearn.metrics import accuracy_score, classification_report, confusion_matrix\n",
    "import matplotlib.pyplot as plt"
   ]
  },
  {
   "cell_type": "code",
   "execution_count": 2,
   "metadata": {},
   "outputs": [
    {
     "data": {
      "text/html": [
       "<div>\n",
       "<style scoped>\n",
       "    .dataframe tbody tr th:only-of-type {\n",
       "        vertical-align: middle;\n",
       "    }\n",
       "\n",
       "    .dataframe tbody tr th {\n",
       "        vertical-align: top;\n",
       "    }\n",
       "\n",
       "    .dataframe thead th {\n",
       "        text-align: right;\n",
       "    }\n",
       "</style>\n",
       "<table border=\"1\" class=\"dataframe\">\n",
       "  <thead>\n",
       "    <tr style=\"text-align: right;\">\n",
       "      <th></th>\n",
       "      <th>Potencia</th>\n",
       "      <th>Eficiencia</th>\n",
       "      <th>Idade</th>\n",
       "      <th>Tamanho</th>\n",
       "      <th>Consumo_de_Energia</th>\n",
       "    </tr>\n",
       "  </thead>\n",
       "  <tbody>\n",
       "    <tr>\n",
       "      <th>0</th>\n",
       "      <td>120</td>\n",
       "      <td>90</td>\n",
       "      <td>5</td>\n",
       "      <td>60</td>\n",
       "      <td>Eficiente</td>\n",
       "    </tr>\n",
       "    <tr>\n",
       "      <th>1</th>\n",
       "      <td>80</td>\n",
       "      <td>65</td>\n",
       "      <td>8</td>\n",
       "      <td>45</td>\n",
       "      <td>Ineficiente</td>\n",
       "    </tr>\n",
       "    <tr>\n",
       "      <th>2</th>\n",
       "      <td>110</td>\n",
       "      <td>88</td>\n",
       "      <td>6</td>\n",
       "      <td>55</td>\n",
       "      <td>Eficiente</td>\n",
       "    </tr>\n",
       "    <tr>\n",
       "      <th>3</th>\n",
       "      <td>90</td>\n",
       "      <td>70</td>\n",
       "      <td>7</td>\n",
       "      <td>50</td>\n",
       "      <td>Ineficiente</td>\n",
       "    </tr>\n",
       "    <tr>\n",
       "      <th>4</th>\n",
       "      <td>105</td>\n",
       "      <td>85</td>\n",
       "      <td>4</td>\n",
       "      <td>58</td>\n",
       "      <td>Eficiente</td>\n",
       "    </tr>\n",
       "  </tbody>\n",
       "</table>\n",
       "</div>"
      ],
      "text/plain": [
       "   Potencia  Eficiencia  Idade  Tamanho Consumo_de_Energia\n",
       "0       120          90      5       60          Eficiente\n",
       "1        80          65      8       45        Ineficiente\n",
       "2       110          88      6       55          Eficiente\n",
       "3        90          70      7       50        Ineficiente\n",
       "4       105          85      4       58          Eficiente"
      ]
     },
     "execution_count": 2,
     "metadata": {},
     "output_type": "execute_result"
    }
   ],
   "source": [
    "dados = pd.DataFrame({\n",
    "    'Potencia': [120, 80, 110, 90, 105, 95, 130, 75, 115, 85],\n",
    "    'Eficiencia': [90, 65, 88, 70, 85, 75, 92, 60, 87, 68],\n",
    "    'Idade': [5, 8, 6, 7, 4, 5, 3, 10, 5, 9],\n",
    "    'Tamanho': [60, 45, 55, 50, 58, 52, 62, 40, 56, 47],\n",
    "    'Consumo_de_Energia': ['Eficiente', 'Ineficiente', 'Eficiente', 'Ineficiente', 'Eficiente',\n",
    "                           'Ineficiente', 'Eficiente', 'Ineficiente', 'Eficiente', 'Ineficiente']\n",
    "})\n",
    "\n",
    "dados.head()"
   ]
  },
  {
   "cell_type": "code",
   "execution_count": null,
   "metadata": {},
   "outputs": [],
   "source": []
  }
 ],
 "metadata": {
  "kernelspec": {
   "display_name": "Python 3",
   "language": "python",
   "name": "python3"
  },
  "language_info": {
   "codemirror_mode": {
    "name": "ipython",
    "version": 3
   },
   "file_extension": ".py",
   "mimetype": "text/x-python",
   "name": "python",
   "nbconvert_exporter": "python",
   "pygments_lexer": "ipython3",
   "version": "3.11.4"
  },
  "orig_nbformat": 4
 },
 "nbformat": 4,
 "nbformat_minor": 2
}
